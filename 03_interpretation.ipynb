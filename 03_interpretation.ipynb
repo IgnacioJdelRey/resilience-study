{
 "cells": [
  {
   "cell_type": "markdown",
   "id": "cdd0745c",
   "metadata": {},
   "source": [
    "### Adding a method to interpret RF classifier and be able to give feedback to user in webapp"
   ]
  },
  {
   "cell_type": "code",
   "execution_count": 21,
   "id": "a3bc4e34",
   "metadata": {},
   "outputs": [],
   "source": [
    "import pandas as pd\n",
    "import numpy as np\n",
    "import matplotlib.pyplot as plt\n",
    "import seaborn as sns\n",
    "import plotly.express as px\n",
    "import plotly.graph_objects as go\n",
    "\n",
    "from sklearn.pipeline import Pipeline\n",
    "from sklearn.compose import ColumnTransformer\n",
    "from category_encoders import TargetEncoder\n",
    "from sklearn.preprocessing import StandardScaler\n",
    "from sklearn.decomposition import PCA\n",
    "from sklearn import set_config\n",
    "from sklearn.model_selection import RandomizedSearchCV\n",
    "from sklearn.model_selection import GridSearchCV\n",
    "\n",
    "from sklearn.tree import DecisionTreeClassifier, plot_tree\n",
    "from sklearn.ensemble import RandomForestClassifier\n",
    "from sklearn.model_selection import train_test_split\n",
    "from sklearn.metrics import roc_curve, roc_auc_score, accuracy_score , precision_score, recall_score, f1_score,\\\n",
    "            precision_recall_curve, confusion_matrix, plot_confusion_matrix\n",
    "\n",
    "from treeinterpreter import treeinterpreter as ti\n",
    "\n",
    "import pickle"
   ]
  },
  {
   "cell_type": "code",
   "execution_count": 22,
   "id": "ec7e12ac",
   "metadata": {},
   "outputs": [],
   "source": [
    "#load the model from disk\n",
    "filename = './RandomForestClassifier_NoCovidFeatures_Webapp_model.sav'\n",
    "loaded_model = pickle.load(open(filename, 'rb'))\n",
    "#result = loaded_model.score(X_test, y_test)\n",
    "#print(result)"
   ]
  },
  {
   "cell_type": "code",
   "execution_count": 23,
   "metadata": {},
   "outputs": [
    {
     "data": {
      "text/plain": [
       "{'preproc': ColumnTransformer(transformers=[('string_preproc', TargetEncoder(),\n",
       "                                  Index([], dtype='object')),\n",
       "                                 ('numeric_preproc', StandardScaler(),\n",
       "                                  Index(['SUBSTANCE_SCORE', 'PADS_TOTAL', 'IUS_total', 'PEMBERTON_TOTAL',\n",
       "        'LONELI', 'DAI_TOTAL', 'BRS_total', 'OFS_total'],\n",
       "       dtype='object'))]),\n",
       " 'classifier': RandomForestClassifier(max_depth=8, min_samples_leaf=40, min_samples_split=100,\n",
       "                        n_estimators=200)}"
      ]
     },
     "execution_count": 23,
     "metadata": {},
     "output_type": "execute_result"
    }
   ],
   "source": [
    "#lets remember how we built the loaded model\n",
    "loaded_model.named_steps"
   ]
  },
  {
   "cell_type": "code",
   "execution_count": 24,
   "id": "8db666d0",
   "metadata": {},
   "outputs": [
    {
     "data": {
      "text/plain": [
       "RandomForestClassifier(max_depth=8, min_samples_leaf=40, min_samples_split=100,\n",
       "                       n_estimators=200)"
      ]
     },
     "execution_count": 24,
     "metadata": {},
     "output_type": "execute_result"
    }
   ],
   "source": [
    "loaded_model.steps[1][1]"
   ]
  },
  {
   "cell_type": "code",
   "execution_count": 25,
   "metadata": {},
   "outputs": [
    {
     "data": {
      "text/plain": [
       "array(['SUBSTANCE_SCORE', 'PADS_TOTAL', 'IUS_total', 'PEMBERTON_TOTAL',\n",
       "       'LONELI', 'DAI_TOTAL', 'BRS_total', 'OFS_total'], dtype=object)"
      ]
     },
     "execution_count": 25,
     "metadata": {},
     "output_type": "execute_result"
    }
   ],
   "source": [
    "loaded_model.feature_names_in_"
   ]
  },
  {
   "cell_type": "code",
   "execution_count": 26,
   "id": "5ecb870f",
   "metadata": {},
   "outputs": [
    {
     "data": {
      "image/png": "[encoded data removed]",
      "text/plain": [
       "<Figure size 1080x576 with 1 Axes>"
      ]
     },
     "metadata": {
      "needs_background": "light"
     },
     "output_type": "display_data"
    }
   ],
   "source": [
    "#checking feature importances\n",
    "columns_importance = pd.Series(loaded_model.steps[1][1].feature_importances_, index=loaded_model.feature_names_in_)\n",
    "fig = plt.figure(figsize = (15, 8))\n",
    "columns_importance.nlargest(10).plot(kind = 'barh');"
   ]
  },
  {
   "cell_type": "code",
   "execution_count": 27,
   "metadata": {},
   "outputs": [
    {
     "data": {
      "text/html": [
       "<div>\n",
       "<style scoped>\n",
       "    .dataframe tbody tr th:only-of-type {\n",
       "        vertical-align: middle;\n",
       "    }\n",
       "\n",
       "    .dataframe tbody tr th {\n",
       "        vertical-align: top;\n",
       "    }\n",
       "\n",
       "    .dataframe thead th {\n",
       "        text-align: right;\n",
       "    }\n",
       "</style>\n",
       "<table border=\"1\" class=\"dataframe\">\n",
       "  <thead>\n",
       "    <tr style=\"text-align: right;\">\n",
       "      <th></th>\n",
       "      <th>SUBSTANCE_SCORE</th>\n",
       "      <th>PADS_TOTAL</th>\n",
       "      <th>IUS_total</th>\n",
       "      <th>PEMBERTON_TOTAL</th>\n",
       "      <th>LONELI</th>\n",
       "      <th>DAI_TOTAL</th>\n",
       "      <th>BRS_total</th>\n",
       "      <th>OFS_total</th>\n",
       "    </tr>\n",
       "  </thead>\n",
       "  <tbody>\n",
       "    <tr>\n",
       "      <th>0</th>\n",
       "      <td>0.0</td>\n",
       "      <td>17.0</td>\n",
       "      <td>12.0</td>\n",
       "      <td>5.0</td>\n",
       "      <td>3.0</td>\n",
       "      <td>5.0</td>\n",
       "      <td>3.0</td>\n",
       "      <td>10.0</td>\n",
       "    </tr>\n",
       "  </tbody>\n",
       "</table>\n",
       "</div>"
      ],
      "text/plain": [
       "   SUBSTANCE_SCORE  PADS_TOTAL  IUS_total  PEMBERTON_TOTAL  LONELI  DAI_TOTAL  \\\n",
       "0              0.0        17.0       12.0              5.0     3.0        5.0   \n",
       "\n",
       "   BRS_total  OFS_total  \n",
       "0        3.0       10.0  "
      ]
     },
     "execution_count": 27,
     "metadata": {},
     "output_type": "execute_result"
    }
   ],
   "source": [
    "# we create a random observation within accepted features values\n",
    "instance = pd.DataFrame(data = {'SUBSTANCE_SCORE': 0,\n",
    "\t\t\t\t\t\t\t\t'PADS_TOTAL': 17,\n",
    "\t\t\t\t\t\t\t\t'IUS_total': 12,\n",
    "\t\t\t\t\t\t\t\t'PEMBERTON_TOTAL': 5,\n",
    "\t\t\t\t\t\t\t\t'LONELI': 3,\n",
    "\t\t\t\t\t\t\t\t'DAI_TOTAL': 5,\n",
    "\t\t\t\t\t\t\t\t'BRS_total': 3,\n",
    "\t\t\t\t\t\t\t\t'OFS_total': 10\n",
    "\t\t\t\t\t\t\t}, dtype = np.float16, index = [0]\n",
    "                        )\n",
    "instance"
   ]
  },
  {
   "cell_type": "code",
   "execution_count": 28,
   "metadata": {},
   "outputs": [],
   "source": [
    "#make prediction\n",
    "prediction_class = loaded_model.predict(instance)\n",
    "prediction_proba = loaded_model.predict_proba(instance)\n",
    "\n",
    "#find feature contributions\n",
    "prediction_ti, bias, contributions = ti.predict(loaded_model[-1], loaded_model[:-1].transform(instance))"
   ]
  },
  {
   "cell_type": "code",
   "execution_count": 29,
   "metadata": {},
   "outputs": [
    {
     "name": "stdout",
     "output_type": "stream",
     "text": [
      "Class 0 prediction 0.4420222379139119\n",
      "Class 1 prediction 0.5579777620860887\n",
      "Class 0 bias (trainset prior) 0.369971264367816\n",
      "Class 1 bias (trainset prior) 0.6300287356321842\n",
      "Feature contributions (with bias and total probability added): [0.6300287356321842, 0.04191055342060908, -0.09919351787831915, 0.05942541919578338, -0.0978973216699782, 0.03777719921068469, 0.035265374123176395, -0.012173713361660817, -0.037164966586391054, 0.5579777620860885]\n",
      "Eres resiliente, con un score de predicción igual a 0.56\n"
     ]
    },
    {
     "data": {
      "application/vnd.plotly.v1+json": {
       "config": {
        "displayModeBar": false,
        "plotlyServerURL": "https://plot.ly"
       },
       "data": [
        {
         "connector": {
          "line": {
           "color": "rgb(63, 63, 63)"
          }
         },
         "measure": [
          "relative",
          "relative",
          "relative",
          "relative",
          "relative",
          "relative",
          "relative",
          "relative",
          "relative",
          "total"
         ],
         "name": "Feature contribution",
         "orientation": "v",
         "text": [
          "0.63",
          "0.042",
          "-0.099",
          "0.059",
          "-0.098",
          "0.038",
          "0.035",
          "-0.012",
          "-0.037",
          "0.558"
         ],
         "textposition": "outside",
         "type": "waterfall",
         "x": [
          "Bias",
          "Consumo de sustancias",
          "Paranoia",
          "Incertidumbre",
          "Felicidad",
          "Soledad",
          "Ansiedad por la muerte",
          "Afrontamiento dificultades",
          "Apertura al futuro",
          "Probabilidad"
         ],
         "y": [
          0.6300287356321842,
          0.04191055342060908,
          -0.09919351787831915,
          0.05942541919578338,
          -0.0978973216699782,
          0.03777719921068469,
          0.035265374123176395,
          -0.012173713361660817,
          -0.037164966586391054,
          0.5579777620860885
         ]
        }
       ],
       "layout": {
        "showlegend": false,
        "template": {
         "data": {
          "bar": [
           {
            "error_x": {
             "color": "#2a3f5f"
            },
            "error_y": {
             "color": "#2a3f5f"
            },
            "marker": {
             "line": {
              "color": "#E5ECF6",
              "width": 0.5
             },
             "pattern": {
              "fillmode": "overlay",
              "size": 10,
              "solidity": 0.2
             }
            },
            "type": "bar"
           }
          ],
          "barpolar": [
           {
            "marker": {
             "line": {
              "color": "#E5ECF6",
              "width": 0.5
             },
             "pattern": {
              "fillmode": "overlay",
              "size": 10,
              "solidity": 0.2
             }
            },
            "type": "barpolar"
           }
          ],
          "carpet": [
           {
            "aaxis": {
             "endlinecolor": "#2a3f5f",
             "gridcolor": "white",
             "linecolor": "white",
             "minorgridcolor": "white",
             "startlinecolor": "#2a3f5f"
            },
            "baxis": {
             "endlinecolor": "#2a3f5f",
             "gridcolor": "white",
             "linecolor": "white",
             "minorgridcolor": "white",
             "startlinecolor": "#2a3f5f"
            },
            "type": "carpet"
           }
          ],
          "choropleth": [
           {
            "colorbar": {
             "outlinewidth": 0,
             "ticks": ""
            },
            "type": "choropleth"
           }
          ],
          "contour": [
           {
            "colorbar": {
             "outlinewidth": 0,
             "ticks": ""
            },
            "colorscale": [
             [
              0,
              "#0d0887"
             ],
             [
              0.1111111111111111,
              "#46039f"
             ],
             [
              0.2222222222222222,
              "#7201a8"
             ],
             [
              0.3333333333333333,
              "#9c179e"
             ],
             [
              0.4444444444444444,
              "#bd3786"
             ],
             [
              0.5555555555555556,
              "#d8576b"
             ],
             [
              0.6666666666666666,
              "#ed7953"
             ],
             [
              0.7777777777777778,
              "#fb9f3a"
             ],
             [
              0.8888888888888888,
              "#fdca26"
             ],
             [
              1,
              "#f0f921"
             ]
            ],
            "type": "contour"
           }
          ],
          "contourcarpet": [
           {
            "colorbar": {
             "outlinewidth": 0,
             "ticks": ""
            },
            "type": "contourcarpet"
           }
          ],
          "heatmap": [
           {
            "colorbar": {
             "outlinewidth": 0,
             "ticks": ""
            },
            "colorscale": [
             [
              0,
              "#0d0887"
             ],
             [
              0.1111111111111111,
              "#46039f"
             ],
             [
              0.2222222222222222,
              "#7201a8"
             ],
             [
              0.3333333333333333,
              "#9c179e"
             ],
             [
              0.4444444444444444,
              "#bd3786"
             ],
             [
              0.5555555555555556,
              "#d8576b"
             ],
             [
              0.6666666666666666,
              "#ed7953"
             ],
             [
              0.7777777777777778,
              "#fb9f3a"
             ],
             [
              0.8888888888888888,
              "#fdca26"
             ],
             [
              1,
              "#f0f921"
             ]
            ],
            "type": "heatmap"
           }
          ],
          "heatmapgl": [
           {
            "colorbar": {
             "outlinewidth": 0,
             "ticks": ""
            },
            "colorscale": [
             [
              0,
              "#0d0887"
             ],
             [
              0.1111111111111111,
              "#46039f"
             ],
             [
              0.2222222222222222,
              "#7201a8"
             ],
             [
              0.3333333333333333,
              "#9c179e"
             ],
             [
              0.4444444444444444,
              "#bd3786"
             ],
             [
              0.5555555555555556,
              "#d8576b"
             ],
             [
              0.6666666666666666,
              "#ed7953"
             ],
             [
              0.7777777777777778,
              "#fb9f3a"
             ],
             [
              0.8888888888888888,
              "#fdca26"
             ],
             [
              1,
              "#f0f921"
             ]
            ],
            "type": "heatmapgl"
           }
          ],
          "histogram": [
           {
            "marker": {
             "pattern": {
              "fillmode": "overlay",
              "size": 10,
              "solidity": 0.2
             }
            },
            "type": "histogram"
           }
          ],
          "histogram2d": [
           {
            "colorbar": {
             "outlinewidth": 0,
             "ticks": ""
            },
            "colorscale": [
             [
              0,
              "#0d0887"
             ],
             [
              0.1111111111111111,
              "#46039f"
             ],
             [
              0.2222222222222222,
              "#7201a8"
             ],
             [
              0.3333333333333333,
              "#9c179e"
             ],
             [
              0.4444444444444444,
              "#bd3786"
             ],
             [
              0.5555555555555556,
              "#d8576b"
             ],
             [
              0.6666666666666666,
              "#ed7953"
             ],
             [
              0.7777777777777778,
              "#fb9f3a"
             ],
             [
              0.8888888888888888,
              "#fdca26"
             ],
             [
              1,
              "#f0f921"
             ]
            ],
            "type": "histogram2d"
           }
          ],
          "histogram2dcontour": [
           {
            "colorbar": {
             "outlinewidth": 0,
             "ticks": ""
            },
            "colorscale": [
             [
              0,
              "#0d0887"
             ],
             [
              0.1111111111111111,
              "#46039f"
             ],
             [
              0.2222222222222222,
              "#7201a8"
             ],
             [
              0.3333333333333333,
              "#9c179e"
             ],
             [
              0.4444444444444444,
              "#bd3786"
             ],
             [
              0.5555555555555556,
              "#d8576b"
             ],
             [
              0.6666666666666666,
              "#ed7953"
             ],
             [
              0.7777777777777778,
              "#fb9f3a"
             ],
             [
              0.8888888888888888,
              "#fdca26"
             ],
             [
              1,
              "#f0f921"
             ]
            ],
            "type": "histogram2dcontour"
           }
          ],
          "mesh3d": [
           {
            "colorbar": {
             "outlinewidth": 0,
             "ticks": ""
            },
            "type": "mesh3d"
           }
          ],
          "parcoords": [
           {
            "line": {
             "colorbar": {
              "outlinewidth": 0,
              "ticks": ""
             }
            },
            "type": "parcoords"
           }
          ],
          "pie": [
           {
            "automargin": true,
            "type": "pie"
           }
          ],
          "scatter": [
           {
            "fillpattern": {
             "fillmode": "overlay",
             "size": 10,
             "solidity": 0.2
            },
            "type": "scatter"
           }
          ],
          "scatter3d": [
           {
            "line": {
             "colorbar": {
              "outlinewidth": 0,
              "ticks": ""
             }
            },
            "marker": {
             "colorbar": {
              "outlinewidth": 0,
              "ticks": ""
             }
            },
            "type": "scatter3d"
           }
          ],
          "scattercarpet": [
           {
            "marker": {
             "colorbar": {
              "outlinewidth": 0,
              "ticks": ""
             }
            },
            "type": "scattercarpet"
           }
          ],
          "scattergeo": [
           {
            "marker": {
             "colorbar": {
              "outlinewidth": 0,
              "ticks": ""
             }
            },
            "type": "scattergeo"
           }
          ],
          "scattergl": [
           {
            "marker": {
             "colorbar": {
              "outlinewidth": 0,
              "ticks": ""
             }
            },
            "type": "scattergl"
           }
          ],
          "scattermapbox": [
           {
            "marker": {
             "colorbar": {
              "outlinewidth": 0,
              "ticks": ""
             }
            },
            "type": "scattermapbox"
           }
          ],
          "scatterpolar": [
           {
            "marker": {
             "colorbar": {
              "outlinewidth": 0,
              "ticks": ""
             }
            },
            "type": "scatterpolar"
           }
          ],
          "scatterpolargl": [
           {
            "marker": {
             "colorbar": {
              "outlinewidth": 0,
              "ticks": ""
             }
            },
            "type": "scatterpolargl"
           }
          ],
          "scatterternary": [
           {
            "marker": {
             "colorbar": {
              "outlinewidth": 0,
              "ticks": ""
             }
            },
            "type": "scatterternary"
           }
          ],
          "surface": [
           {
            "colorbar": {
             "outlinewidth": 0,
             "ticks": ""
            },
            "colorscale": [
             [
              0,
              "#0d0887"
             ],
             [
              0.1111111111111111,
              "#46039f"
             ],
             [
              0.2222222222222222,
              "#7201a8"
             ],
             [
              0.3333333333333333,
              "#9c179e"
             ],
             [
              0.4444444444444444,
              "#bd3786"
             ],
             [
              0.5555555555555556,
              "#d8576b"
             ],
             [
              0.6666666666666666,
              "#ed7953"
             ],
             [
              0.7777777777777778,
              "#fb9f3a"
             ],
             [
              0.8888888888888888,
              "#fdca26"
             ],
             [
              1,
              "#f0f921"
             ]
            ],
            "type": "surface"
           }
          ],
          "table": [
           {
            "cells": {
             "fill": {
              "color": "#EBF0F8"
             },
             "line": {
              "color": "white"
             }
            },
            "header": {
             "fill": {
              "color": "#C8D4E3"
             },
             "line": {
              "color": "white"
             }
            },
            "type": "table"
           }
          ]
         },
         "layout": {
          "annotationdefaults": {
           "arrowcolor": "#2a3f5f",
           "arrowhead": 0,
           "arrowwidth": 1
          },
          "autotypenumbers": "strict",
          "coloraxis": {
           "colorbar": {
            "outlinewidth": 0,
            "ticks": ""
           }
          },
          "colorscale": {
           "diverging": [
            [
             0,
             "#8e0152"
            ],
            [
             0.1,
             "#c51b7d"
            ],
            [
             0.2,
             "#de77ae"
            ],
            [
             0.3,
             "#f1b6da"
            ],
            [
             0.4,
             "#fde0ef"
            ],
            [
             0.5,
             "#f7f7f7"
            ],
            [
             0.6,
             "#e6f5d0"
            ],
            [
             0.7,
             "#b8e186"
            ],
            [
             0.8,
             "#7fbc41"
            ],
            [
             0.9,
             "#4d9221"
            ],
            [
             1,
             "#276419"
            ]
           ],
           "sequential": [
            [
             0,
             "#0d0887"
            ],
            [
             0.1111111111111111,
             "#46039f"
            ],
            [
             0.2222222222222222,
             "#7201a8"
            ],
            [
             0.3333333333333333,
             "#9c179e"
            ],
            [
             0.4444444444444444,
             "#bd3786"
            ],
            [
             0.5555555555555556,
             "#d8576b"
            ],
            [
             0.6666666666666666,
             "#ed7953"
            ],
            [
             0.7777777777777778,
             "#fb9f3a"
            ],
            [
             0.8888888888888888,
             "#fdca26"
            ],
            [
             1,
             "#f0f921"
            ]
           ],
           "sequentialminus": [
            [
             0,
             "#0d0887"
            ],
            [
             0.1111111111111111,
             "#46039f"
            ],
            [
             0.2222222222222222,
             "#7201a8"
            ],
            [
             0.3333333333333333,
             "#9c179e"
            ],
            [
             0.4444444444444444,
             "#bd3786"
            ],
            [
             0.5555555555555556,
             "#d8576b"
            ],
            [
             0.6666666666666666,
             "#ed7953"
            ],
            [
             0.7777777777777778,
             "#fb9f3a"
            ],
            [
             0.8888888888888888,
             "#fdca26"
            ],
            [
             1,
             "#f0f921"
            ]
           ]
          },
          "colorway": [
           "#636efa",
           "#EF553B",
           "#00cc96",
           "#ab63fa",
           "#FFA15A",
           "#19d3f3",
           "#FF6692",
           "#B6E880",
           "#FF97FF",
           "#FECB52"
          ],
          "font": {
           "color": "#2a3f5f"
          },
          "geo": {
           "bgcolor": "white",
           "lakecolor": "white",
           "landcolor": "#E5ECF6",
           "showlakes": true,
           "showland": true,
           "subunitcolor": "white"
          },
          "hoverlabel": {
           "align": "left"
          },
          "hovermode": "closest",
          "mapbox": {
           "style": "light"
          },
          "paper_bgcolor": "white",
          "plot_bgcolor": "#E5ECF6",
          "polar": {
           "angularaxis": {
            "gridcolor": "white",
            "linecolor": "white",
            "ticks": ""
           },
           "bgcolor": "#E5ECF6",
           "radialaxis": {
            "gridcolor": "white",
            "linecolor": "white",
            "ticks": ""
           }
          },
          "scene": {
           "xaxis": {
            "backgroundcolor": "#E5ECF6",
            "gridcolor": "white",
            "gridwidth": 2,
            "linecolor": "white",
            "showbackground": true,
            "ticks": "",
            "zerolinecolor": "white"
           },
           "yaxis": {
            "backgroundcolor": "#E5ECF6",
            "gridcolor": "white",
            "gridwidth": 2,
            "linecolor": "white",
            "showbackground": true,
            "ticks": "",
            "zerolinecolor": "white"
           },
           "zaxis": {
            "backgroundcolor": "#E5ECF6",
            "gridcolor": "white",
            "gridwidth": 2,
            "linecolor": "white",
            "showbackground": true,
            "ticks": "",
            "zerolinecolor": "white"
           }
          },
          "shapedefaults": {
           "line": {
            "color": "#2a3f5f"
           }
          },
          "ternary": {
           "aaxis": {
            "gridcolor": "white",
            "linecolor": "white",
            "ticks": ""
           },
           "baxis": {
            "gridcolor": "white",
            "linecolor": "white",
            "ticks": ""
           },
           "bgcolor": "#E5ECF6",
           "caxis": {
            "gridcolor": "white",
            "linecolor": "white",
            "ticks": ""
           }
          },
          "title": {
           "x": 0.05
          },
          "xaxis": {
           "automargin": true,
           "gridcolor": "white",
           "linecolor": "white",
           "ticks": "",
           "title": {
            "standoff": 15
           },
           "zerolinecolor": "white",
           "zerolinewidth": 2
          },
          "yaxis": {
           "automargin": true,
           "gridcolor": "white",
           "linecolor": "white",
           "ticks": "",
           "title": {
            "standoff": 15
           },
           "zerolinecolor": "white",
           "zerolinewidth": 2
          }
         }
        },
        "title": {
         "text": "Feature contribution"
        }
       }
      }
     },
     "metadata": {},
     "output_type": "display_data"
    }
   ],
   "source": [
    "#prepare results to plot and interpret them in a waterfall chart\n",
    "if prediction_class == 1:\n",
    "    fig_y = []\n",
    "    for i, element in enumerate(contributions[0][:, 1:].tolist()):\n",
    "        fig_y.append(contributions[0][:, 1:].tolist()[i][0])\n",
    "    fig_y.append(bias[0][1] + sum(fig_y))\n",
    "    fig_y.insert(0, bias[0][1])\n",
    "\n",
    "    print('Class 0 prediction', prediction_ti[0][0])\n",
    "    print('Class 1 prediction', prediction_ti[0][1])\n",
    "    print('Class 0 bias (trainset prior)', bias[0][0])\n",
    "    print('Class 1 bias (trainset prior)', bias[0][1])\n",
    "    print('Feature contributions (with bias and total probability added):', fig_y)\n",
    "\n",
    "    print('Eres resiliente, con un score de predicción igual a', round(prediction_proba[0, 1], 2))\n",
    "else:\n",
    "    fig_y = []\n",
    "    for i, element in enumerate(contributions[0][:, 0:1].tolist()):\n",
    "        fig_y.append(contributions[0][:, 0:1].tolist()[i][0])\n",
    "    fig_y.append(bias[0][0] + sum(fig_y))\n",
    "    fig_y.insert(0, bias[0][0])\n",
    "\n",
    "    print('Class 0 prediction', prediction_ti[0][0])\n",
    "    print('Class 1 prediction', prediction_ti[0][1])\n",
    "    print('Class 0 bias (trainset prior)', bias[0][0])\n",
    "    print('Class 1 bias (trainset prior)', bias[0][1])\n",
    "    print('Feature contributions (with bias and total probability added):', fig_y)\n",
    "\n",
    "    print('No eres resiliente, con un score de predicción igual a', round(prediction_proba[0, 0], 2))\n",
    "\n",
    "fig = go.Figure(go.Waterfall(\n",
    "    name = 'Feature contribution', orientation = 'v',\n",
    "    measure = ['relative', 'relative', 'relative', 'relative', 'relative', 'relative', 'relative', 'relative', 'relative', 'total'],\n",
    "    x = ['Bias', 'Consumo de sustancias', 'Paranoia', 'Incertidumbre', 'Felicidad', 'Soledad', 'Ansiedad por la muerte', 'Afrontamiento dificultades', 'Apertura al futuro', 'Probabilidad'],\n",
    "    textposition = \"outside\",\n",
    "    text = list(map(str, [round(num, 3) for num in fig_y])),\n",
    "    y = fig_y,\n",
    "    connector = {\"line\":{\"color\":\"rgb(63, 63, 63)\"}},\n",
    "))\n",
    "\n",
    "fig.update_layout(\n",
    "        title = 'Feature contribution',\n",
    "        showlegend = False\n",
    ")\n",
    "\n",
    "config = {'displayModeBar': False}\n",
    "fig.show(use_container_width = True, config = config)"
   ]
  },
  {
   "cell_type": "markdown",
   "metadata": {},
   "source": [
    "### Creating a Decision Tree model with selected features to add interpretation"
   ]
  },
  {
   "cell_type": "code",
   "execution_count": 30,
   "metadata": {},
   "outputs": [
    {
     "data": {
      "text/html": [
       "<div>\n",
       "<style scoped>\n",
       "    .dataframe tbody tr th:only-of-type {\n",
       "        vertical-align: middle;\n",
       "    }\n",
       "\n",
       "    .dataframe tbody tr th {\n",
       "        vertical-align: top;\n",
       "    }\n",
       "\n",
       "    .dataframe thead th {\n",
       "        text-align: right;\n",
       "    }\n",
       "</style>\n",
       "<table border=\"1\" class=\"dataframe\">\n",
       "  <thead>\n",
       "    <tr style=\"text-align: right;\">\n",
       "      <th></th>\n",
       "      <th>ID</th>\n",
       "      <th>Edad</th>\n",
       "      <th>Sexo</th>\n",
       "      <th>Zona_vivienda</th>\n",
       "      <th>Pertenencia_vecindario</th>\n",
       "      <th>Comodidad_vencindario_llaves</th>\n",
       "      <th>Comodidad_vencindario_compra</th>\n",
       "      <th>Titulación</th>\n",
       "      <th>Situación_laboral</th>\n",
       "      <th>Adultos_vivienda</th>\n",
       "      <th>...</th>\n",
       "      <th>DAI_TOTAL</th>\n",
       "      <th>IUS_total</th>\n",
       "      <th>PEMBERTON_TOTAL</th>\n",
       "      <th>PI_total</th>\n",
       "      <th>PGT_SF_total</th>\n",
       "      <th>JTC_COVID</th>\n",
       "      <th>JTC_GENERAL</th>\n",
       "      <th>RESILIENT_W1234</th>\n",
       "      <th>target_cat</th>\n",
       "      <th>target_num</th>\n",
       "    </tr>\n",
       "  </thead>\n",
       "  <tbody>\n",
       "    <tr>\n",
       "      <th>323</th>\n",
       "      <td>1017726</td>\n",
       "      <td>42.0</td>\n",
       "      <td>Femenino</td>\n",
       "      <td>Urbana</td>\n",
       "      <td>Mucho</td>\n",
       "      <td>Muy incómodo</td>\n",
       "      <td>Algo cómodo</td>\n",
       "      <td>Master</td>\n",
       "      <td>Empleado tiempo completo</td>\n",
       "      <td>2</td>\n",
       "      <td>...</td>\n",
       "      <td>20.0</td>\n",
       "      <td>52.0</td>\n",
       "      <td>6.500000</td>\n",
       "      <td>1.666667</td>\n",
       "      <td>19.0</td>\n",
       "      <td>1.0</td>\n",
       "      <td>1.0</td>\n",
       "      <td>1199</td>\n",
       "      <td>Sustained distress</td>\n",
       "      <td>0</td>\n",
       "    </tr>\n",
       "    <tr>\n",
       "      <th>324</th>\n",
       "      <td>108162</td>\n",
       "      <td>46.0</td>\n",
       "      <td>Femenino</td>\n",
       "      <td>Urbana</td>\n",
       "      <td>Ligeramente</td>\n",
       "      <td>Algo incómodo</td>\n",
       "      <td>Algo incómodo</td>\n",
       "      <td>Licenciatura</td>\n",
       "      <td>Empleado medio tiempo</td>\n",
       "      <td>2</td>\n",
       "      <td>...</td>\n",
       "      <td>10.0</td>\n",
       "      <td>25.0</td>\n",
       "      <td>8.083333</td>\n",
       "      <td>4.166667</td>\n",
       "      <td>39.0</td>\n",
       "      <td>1.0</td>\n",
       "      <td>2.0</td>\n",
       "      <td>1199</td>\n",
       "      <td>Sustained distress</td>\n",
       "      <td>0</td>\n",
       "    </tr>\n",
       "    <tr>\n",
       "      <th>325</th>\n",
       "      <td>1111859</td>\n",
       "      <td>55.0</td>\n",
       "      <td>Masculino</td>\n",
       "      <td>Urbana</td>\n",
       "      <td>Ligeramente</td>\n",
       "      <td>Algo cómodo</td>\n",
       "      <td>Algo cómodo</td>\n",
       "      <td>Licenciatura</td>\n",
       "      <td>Empleado tiempo completo</td>\n",
       "      <td>2</td>\n",
       "      <td>...</td>\n",
       "      <td>11.0</td>\n",
       "      <td>21.0</td>\n",
       "      <td>7.666667</td>\n",
       "      <td>4.500000</td>\n",
       "      <td>36.0</td>\n",
       "      <td>8.5</td>\n",
       "      <td>7.5</td>\n",
       "      <td>0099</td>\n",
       "      <td>Resilient</td>\n",
       "      <td>1</td>\n",
       "    </tr>\n",
       "    <tr>\n",
       "      <th>326</th>\n",
       "      <td>1119736</td>\n",
       "      <td>59.0</td>\n",
       "      <td>Femenino</td>\n",
       "      <td>Urbana</td>\n",
       "      <td>Ligeramente</td>\n",
       "      <td>Algo cómodo</td>\n",
       "      <td>Algo cómodo</td>\n",
       "      <td>Master</td>\n",
       "      <td>Empleado medio tiempo</td>\n",
       "      <td>3</td>\n",
       "      <td>...</td>\n",
       "      <td>15.0</td>\n",
       "      <td>17.0</td>\n",
       "      <td>5.916667</td>\n",
       "      <td>3.333333</td>\n",
       "      <td>56.0</td>\n",
       "      <td>1.0</td>\n",
       "      <td>1.0</td>\n",
       "      <td>0099</td>\n",
       "      <td>Resilient</td>\n",
       "      <td>1</td>\n",
       "    </tr>\n",
       "    <tr>\n",
       "      <th>327</th>\n",
       "      <td>1151720</td>\n",
       "      <td>22.0</td>\n",
       "      <td>Femenino</td>\n",
       "      <td>Urbana</td>\n",
       "      <td>Moderadamente</td>\n",
       "      <td>Muy incómodo</td>\n",
       "      <td>Algo incómodo</td>\n",
       "      <td>Master</td>\n",
       "      <td>Estudiante</td>\n",
       "      <td>4</td>\n",
       "      <td>...</td>\n",
       "      <td>15.0</td>\n",
       "      <td>31.0</td>\n",
       "      <td>8.750000</td>\n",
       "      <td>3.333333</td>\n",
       "      <td>47.0</td>\n",
       "      <td>1.0</td>\n",
       "      <td>1.5</td>\n",
       "      <td>1099</td>\n",
       "      <td>Recovered</td>\n",
       "      <td>1</td>\n",
       "    </tr>\n",
       "    <tr>\n",
       "      <th>...</th>\n",
       "      <td>...</td>\n",
       "      <td>...</td>\n",
       "      <td>...</td>\n",
       "      <td>...</td>\n",
       "      <td>...</td>\n",
       "      <td>...</td>\n",
       "      <td>...</td>\n",
       "      <td>...</td>\n",
       "      <td>...</td>\n",
       "      <td>...</td>\n",
       "      <td>...</td>\n",
       "      <td>...</td>\n",
       "      <td>...</td>\n",
       "      <td>...</td>\n",
       "      <td>...</td>\n",
       "      <td>...</td>\n",
       "      <td>...</td>\n",
       "      <td>...</td>\n",
       "      <td>...</td>\n",
       "      <td>...</td>\n",
       "      <td>...</td>\n",
       "    </tr>\n",
       "    <tr>\n",
       "      <th>1946</th>\n",
       "      <td>996007</td>\n",
       "      <td>45.0</td>\n",
       "      <td>Masculino</td>\n",
       "      <td>Urbana</td>\n",
       "      <td>Ligeramente</td>\n",
       "      <td>Algo incómodo</td>\n",
       "      <td>Algo incómodo</td>\n",
       "      <td>Grado universitario</td>\n",
       "      <td>Empleado tiempo completo</td>\n",
       "      <td>2</td>\n",
       "      <td>...</td>\n",
       "      <td>15.0</td>\n",
       "      <td>25.0</td>\n",
       "      <td>8.416667</td>\n",
       "      <td>2.333333</td>\n",
       "      <td>32.0</td>\n",
       "      <td>5.5</td>\n",
       "      <td>1.0</td>\n",
       "      <td>0000</td>\n",
       "      <td>Resilient</td>\n",
       "      <td>1</td>\n",
       "    </tr>\n",
       "    <tr>\n",
       "      <th>1947</th>\n",
       "      <td>997159</td>\n",
       "      <td>25.0</td>\n",
       "      <td>Masculino</td>\n",
       "      <td>Urbana</td>\n",
       "      <td>Moderadamente</td>\n",
       "      <td>Algo cómodo</td>\n",
       "      <td>Algo incómodo</td>\n",
       "      <td>Grado universitario</td>\n",
       "      <td>Empleado medio tiempo</td>\n",
       "      <td>2</td>\n",
       "      <td>...</td>\n",
       "      <td>5.0</td>\n",
       "      <td>32.0</td>\n",
       "      <td>6.833333</td>\n",
       "      <td>2.666667</td>\n",
       "      <td>33.0</td>\n",
       "      <td>3.0</td>\n",
       "      <td>3.5</td>\n",
       "      <td>0100</td>\n",
       "      <td>Delayed distress</td>\n",
       "      <td>0</td>\n",
       "    </tr>\n",
       "    <tr>\n",
       "      <th>1948</th>\n",
       "      <td>997683</td>\n",
       "      <td>67.0</td>\n",
       "      <td>Masculino</td>\n",
       "      <td>Rural</td>\n",
       "      <td>Mucho</td>\n",
       "      <td>Muy cómodo</td>\n",
       "      <td>Muy cómodo</td>\n",
       "      <td>Bachillerato</td>\n",
       "      <td>Jubilado</td>\n",
       "      <td>2</td>\n",
       "      <td>...</td>\n",
       "      <td>6.0</td>\n",
       "      <td>27.0</td>\n",
       "      <td>8.333333</td>\n",
       "      <td>3.666667</td>\n",
       "      <td>39.0</td>\n",
       "      <td>1.0</td>\n",
       "      <td>1.0</td>\n",
       "      <td>0000</td>\n",
       "      <td>Resilient</td>\n",
       "      <td>1</td>\n",
       "    </tr>\n",
       "    <tr>\n",
       "      <th>1949</th>\n",
       "      <td>997717</td>\n",
       "      <td>31.0</td>\n",
       "      <td>Masculino</td>\n",
       "      <td>Urbana</td>\n",
       "      <td>Ligeramente</td>\n",
       "      <td>Algo cómodo</td>\n",
       "      <td>Algo incómodo</td>\n",
       "      <td>Master</td>\n",
       "      <td>Empleado tiempo completo</td>\n",
       "      <td>2</td>\n",
       "      <td>...</td>\n",
       "      <td>15.0</td>\n",
       "      <td>47.0</td>\n",
       "      <td>5.416667</td>\n",
       "      <td>2.333333</td>\n",
       "      <td>32.0</td>\n",
       "      <td>5.5</td>\n",
       "      <td>2.0</td>\n",
       "      <td>0101</td>\n",
       "      <td>Delayed distress</td>\n",
       "      <td>0</td>\n",
       "    </tr>\n",
       "    <tr>\n",
       "      <th>1950</th>\n",
       "      <td>998703</td>\n",
       "      <td>51.0</td>\n",
       "      <td>Masculino</td>\n",
       "      <td>Urbana</td>\n",
       "      <td>Moderadamente</td>\n",
       "      <td>Algo cómodo</td>\n",
       "      <td>Algo incómodo</td>\n",
       "      <td>Formación profesional</td>\n",
       "      <td>Jubilado</td>\n",
       "      <td>3</td>\n",
       "      <td>...</td>\n",
       "      <td>10.0</td>\n",
       "      <td>32.0</td>\n",
       "      <td>9.000000</td>\n",
       "      <td>2.500000</td>\n",
       "      <td>45.0</td>\n",
       "      <td>1.0</td>\n",
       "      <td>1.0</td>\n",
       "      <td>1001</td>\n",
       "      <td>Recovered</td>\n",
       "      <td>1</td>\n",
       "    </tr>\n",
       "  </tbody>\n",
       "</table>\n",
       "<p>1624 rows × 65 columns</p>\n",
       "</div>"
      ],
      "text/plain": [
       "           ID  Edad       Sexo Zona_vivienda Pertenencia_vecindario  \\\n",
       "323   1017726  42.0   Femenino        Urbana                  Mucho   \n",
       "324    108162  46.0   Femenino        Urbana            Ligeramente   \n",
       "325   1111859  55.0  Masculino        Urbana            Ligeramente   \n",
       "326   1119736  59.0   Femenino        Urbana            Ligeramente   \n",
       "327   1151720  22.0   Femenino        Urbana          Moderadamente   \n",
       "...       ...   ...        ...           ...                    ...   \n",
       "1946   996007  45.0  Masculino        Urbana            Ligeramente   \n",
       "1947   997159  25.0  Masculino        Urbana          Moderadamente   \n",
       "1948   997683  67.0  Masculino         Rural                  Mucho   \n",
       "1949   997717  31.0  Masculino        Urbana            Ligeramente   \n",
       "1950   998703  51.0  Masculino        Urbana          Moderadamente   \n",
       "\n",
       "     Comodidad_vencindario_llaves Comodidad_vencindario_compra  \\\n",
       "323                  Muy incómodo                  Algo cómodo   \n",
       "324                 Algo incómodo                Algo incómodo   \n",
       "325                   Algo cómodo                  Algo cómodo   \n",
       "326                   Algo cómodo                  Algo cómodo   \n",
       "327                  Muy incómodo                Algo incómodo   \n",
       "...                           ...                          ...   \n",
       "1946                Algo incómodo                Algo incómodo   \n",
       "1947                  Algo cómodo                Algo incómodo   \n",
       "1948                   Muy cómodo                   Muy cómodo   \n",
       "1949                  Algo cómodo                Algo incómodo   \n",
       "1950                  Algo cómodo                Algo incómodo   \n",
       "\n",
       "                 Titulación         Situación_laboral Adultos_vivienda  ...  \\\n",
       "323                  Master  Empleado tiempo completo                2  ...   \n",
       "324            Licenciatura     Empleado medio tiempo                2  ...   \n",
       "325            Licenciatura  Empleado tiempo completo                2  ...   \n",
       "326                  Master     Empleado medio tiempo                3  ...   \n",
       "327                  Master                Estudiante                4  ...   \n",
       "...                     ...                       ...              ...  ...   \n",
       "1946    Grado universitario  Empleado tiempo completo                2  ...   \n",
       "1947    Grado universitario     Empleado medio tiempo                2  ...   \n",
       "1948           Bachillerato                  Jubilado                2  ...   \n",
       "1949                 Master  Empleado tiempo completo                2  ...   \n",
       "1950  Formación profesional                  Jubilado                3  ...   \n",
       "\n",
       "      DAI_TOTAL IUS_total PEMBERTON_TOTAL  PI_total PGT_SF_total  JTC_COVID  \\\n",
       "323        20.0      52.0        6.500000  1.666667         19.0        1.0   \n",
       "324        10.0      25.0        8.083333  4.166667         39.0        1.0   \n",
       "325        11.0      21.0        7.666667  4.500000         36.0        8.5   \n",
       "326        15.0      17.0        5.916667  3.333333         56.0        1.0   \n",
       "327        15.0      31.0        8.750000  3.333333         47.0        1.0   \n",
       "...         ...       ...             ...       ...          ...        ...   \n",
       "1946       15.0      25.0        8.416667  2.333333         32.0        5.5   \n",
       "1947        5.0      32.0        6.833333  2.666667         33.0        3.0   \n",
       "1948        6.0      27.0        8.333333  3.666667         39.0        1.0   \n",
       "1949       15.0      47.0        5.416667  2.333333         32.0        5.5   \n",
       "1950       10.0      32.0        9.000000  2.500000         45.0        1.0   \n",
       "\n",
       "      JTC_GENERAL RESILIENT_W1234          target_cat  target_num  \n",
       "323           1.0            1199  Sustained distress           0  \n",
       "324           2.0            1199  Sustained distress           0  \n",
       "325           7.5            0099           Resilient           1  \n",
       "326           1.0            0099           Resilient           1  \n",
       "327           1.5            1099           Recovered           1  \n",
       "...           ...             ...                 ...         ...  \n",
       "1946          1.0            0000           Resilient           1  \n",
       "1947          3.5            0100    Delayed distress           0  \n",
       "1948          1.0            0000           Resilient           1  \n",
       "1949          2.0            0101    Delayed distress           0  \n",
       "1950          1.0            1001           Recovered           1  \n",
       "\n",
       "[1624 rows x 65 columns]"
      ]
     },
     "execution_count": 30,
     "metadata": {},
     "output_type": "execute_result"
    }
   ],
   "source": [
    "#loading the dataset\n",
    "dataset = pd.read_csv('./covid_dataset_sel.csv', index_col = 0, dtype = {'ID': str, 'RESILIENT_W1234': str})\n",
    "dataset.head()\n",
    "\n",
    "#preparing the target\n",
    "dataset.loc[dataset['RESILIENT_W1234'].apply(lambda x: x[0:2]) == '00', 'target_cat'] = 'Resilient'\n",
    "dataset.loc[dataset['RESILIENT_W1234'].apply(lambda x: x[0:2]) == '10', 'target_cat'] = 'Recovered'\n",
    "dataset.loc[dataset['RESILIENT_W1234'].apply(lambda x: x[0:2]) == '11', 'target_cat'] = 'Sustained distress'\n",
    "dataset.loc[dataset['RESILIENT_W1234'].apply(lambda x: x[0:2]) == '01', 'target_cat'] = 'Delayed distress'\n",
    "\n",
    "dataset.dropna(inplace = True) # lets drop rows where at least one value is missing (will come just from this last column we created)\n",
    "\n",
    "dataset['target_num'] = [1 if x in ['Resilient', 'Recovered'] else 0 for x in dataset['target_cat']]\n",
    "dataset"
   ]
  },
  {
   "cell_type": "code",
   "execution_count": 56,
   "id": "34d17c3b",
   "metadata": {
    "scrolled": false
   },
   "outputs": [
    {
     "name": "stderr",
     "output_type": "stream",
     "text": [
      "/Users/ignacio/Documents/covid/resilience-study/env/lib/python3.9/site-packages/category_encoders/target_encoder.py:92: FutureWarning:\n",
      "\n",
      "Default parameter min_samples_leaf will change in version 2.6.See https://github.com/scikit-learn-contrib/category_encoders/issues/327\n",
      "\n",
      "/Users/ignacio/Documents/covid/resilience-study/env/lib/python3.9/site-packages/category_encoders/target_encoder.py:97: FutureWarning:\n",
      "\n",
      "Default parameter smoothing will change in version 2.6.See https://github.com/scikit-learn-contrib/category_encoders/issues/327\n",
      "\n"
     ]
    },
    {
     "data": {
      "text/plain": [
       "Pipeline(steps=[('preproc',\n",
       "                 ColumnTransformer(transformers=[('string_preproc',\n",
       "                                                  TargetEncoder(),\n",
       "                                                  Index([], dtype='object')),\n",
       "                                                 ('numeric_preproc',\n",
       "                                                  StandardScaler(),\n",
       "                                                  Index(['SUBSTANCE_SCORE', 'PADS_TOTAL', 'IUS_total', 'PEMBERTON_TOTAL',\n",
       "       'LONELI', 'DAI_TOTAL', 'BRS_total', 'OFS_total'],\n",
       "      dtype='object'))])),\n",
       "                ('classifier',\n",
       "                 DecisionTreeClassifier(max_depth=5, min_samples_leaf=40,\n",
       "                                        min_samples_split=90,\n",
       "                                        random_state=0))])"
      ]
     },
     "execution_count": 56,
     "metadata": {},
     "output_type": "execute_result"
    }
   ],
   "source": [
    "#separating target and features and keeping most important features from previous step\n",
    "target = dataset['target_num']\n",
    "features = dataset[['SUBSTANCE_SCORE',\n",
    "                     'PADS_TOTAL',\n",
    "                     'IUS_total',\n",
    "                     'PEMBERTON_TOTAL',\n",
    "                     'LONELI',\n",
    "                     'DAI_TOTAL',\n",
    "                     'BRS_total',\n",
    "                     'OFS_total']]\n",
    "\n",
    "#defining classifier\n",
    "#classifier = LogisticRegression(max_iter = 10000)\n",
    "#classifier = DecisionTreeClassifier(min_samples_leaf = 40, min_samples_split = 100, max_depth = 4)\n",
    "#classifier = RandomForestClassifier(n_estimators = 10000,\n",
    "#                                    min_samples_leaf = 40,\n",
    "#                                    min_samples_split = 110,\n",
    "#                                    max_depth = 6,\n",
    "#                                    max_features = 10)\n",
    "dt = DecisionTreeClassifier(random_state = 0)\n",
    "\n",
    "#parameters grid to hypertune\n",
    "random_param_grid = {'min_samples_leaf': range(40, 90, 10),\n",
    "                     'min_samples_split': range(90, 140, 10),\n",
    "                     'max_depth': range(5, 10, 1)\n",
    "                     }\n",
    "\n",
    "#complete search of parameters, using 3 fold cross validation\n",
    "dt_grid = GridSearchCV(estimator = dt,\n",
    "                       param_grid = random_param_grid,\n",
    "                       cv = 3,\n",
    "                       scoring = 'accuracy'\n",
    ")\n",
    "\n",
    "#separating numeric and categorical features\n",
    "features_string = features.select_dtypes('object').columns\n",
    "features_numeric = features.select_dtypes('number').columns\n",
    "\n",
    "#defining preprocessing for categorical and numerical features \n",
    "preproc = ColumnTransformer([('string_preproc', TargetEncoder(), features_string), \n",
    "                             ('numeric_preproc', StandardScaler(), features_numeric)])\n",
    "\n",
    "#splitting dataset\n",
    "X_train, X_test, y_train, y_test = train_test_split(features, target, random_state = 0)\n",
    "\n",
    "#fit the random search model after applying preproc to features\n",
    "dt_grid.fit(preproc.fit_transform(X_train, y_train), y_train)\n",
    "\n",
    "dt_best = dt_grid.best_estimator_\n",
    "\n",
    "#creating the modeling pipeline\n",
    "pipeline = Pipeline([('preproc', preproc),\n",
    "                     ('classifier', dt_best)])\n",
    "pipeline"
   ]
  },
  {
   "cell_type": "code",
   "execution_count": 57,
   "metadata": {},
   "outputs": [
    {
     "name": "stdout",
     "output_type": "stream",
     "text": [
      "last model accuracy_score_test 0.7266009852216748\n",
      "last model accuracy_score_train 0.7577996715927751\n",
      "last model precision_score_test 0.7802197802197802\n",
      "last model precision_score_train 0.7969735182849937\n",
      "last model recall_score_test 0.8068181818181818\n",
      "last model recall_score_train 0.825065274151436\n",
      "last model f1_score_test 0.7932960893854749\n",
      "last model f1_score_train 0.8107761385503529\n",
      "last model auc_score_test 0.692141485275288\n",
      "last model auc_score_train 0.7344352919429749\n"
     ]
    },
    {
     "data": {
      "image/png": "[encoded data removed]",
      "text/plain": [
       "<Figure size 1080x360 with 2 Axes>"
      ]
     },
     "metadata": {
      "needs_background": "light"
     },
     "output_type": "display_data"
    }
   ],
   "source": [
    "#trainning the model\n",
    "pipeline.fit(X_train, y_train)\n",
    "\n",
    "#making predictions\n",
    "predictions_test = pipeline.predict(X_test)\n",
    "predictions_proba_test = pipeline.predict_proba(X_test)\n",
    "predictions_train = pipeline.predict(X_train)\n",
    "predictions_proba_train = pipeline.predict_proba(X_train)\n",
    "\n",
    "#evaluating the model\n",
    "#metrics\n",
    "accuracy_test = accuracy_score(y_test, predictions_test)\n",
    "precision_test = precision_score(y_test, predictions_test)\n",
    "recall_test = recall_score(y_test, predictions_test)\n",
    "f1_test = f1_score(y_test, predictions_test)\n",
    "auc_test = roc_auc_score(y_test, predictions_test)\n",
    "\n",
    "accuracy_train = accuracy_score(y_train, predictions_train)\n",
    "precision_train = precision_score(y_train, predictions_train)\n",
    "recall_train = recall_score(y_train, predictions_train)\n",
    "f1_train = f1_score(y_train, predictions_train)\n",
    "auc_train = roc_auc_score(y_train, predictions_train)\n",
    "\n",
    "# print and graph last result\n",
    "print('last model accuracy_score_test', accuracy_test)\n",
    "print('last model accuracy_score_train', accuracy_train)\n",
    "print('last model precision_score_test', precision_test)\n",
    "print('last model precision_score_train', precision_train)\n",
    "print('last model recall_score_test', recall_test)\n",
    "print('last model recall_score_train', recall_train)\n",
    "print('last model f1_score_test', f1_test)\n",
    "print('last model f1_score_train', f1_train)\n",
    "print('last model auc_score_test', auc_test)\n",
    "print('last model auc_score_train', auc_train)\n",
    "\n",
    "precision, recall, _ = precision_recall_curve(y_test, predictions_test)\n",
    "roc_dt_test = roc_curve(y_test, predictions_proba_test[:,1])\n",
    "roc_dt_train = roc_curve(y_train, predictions_proba_train[:,1])\n",
    "\n",
    "#plotting results\n",
    "fig, ax = plt.subplots(1,2, figsize=(15,5))\n",
    "\n",
    "ax[0].plot(roc_dt_test[0], roc_dt_test[1]);\n",
    "ax[0].plot(roc_dt_train[0], roc_dt_train[1]);\n",
    "ax[0].plot([0, 1], [0, 1]);\n",
    "\n",
    "ax[1].plot(recall, precision)\n",
    "ax[1].grid()"
   ]
  },
  {
   "cell_type": "code",
   "execution_count": 58,
   "id": "f1cfee74",
   "metadata": {},
   "outputs": [
    {
     "data": {
      "text/html": [
       "<div>\n",
       "<style scoped>\n",
       "    .dataframe tbody tr th:only-of-type {\n",
       "        vertical-align: middle;\n",
       "    }\n",
       "\n",
       "    .dataframe tbody tr th {\n",
       "        vertical-align: top;\n",
       "    }\n",
       "\n",
       "    .dataframe thead th {\n",
       "        text-align: right;\n",
       "    }\n",
       "</style>\n",
       "<table border=\"1\" class=\"dataframe\">\n",
       "  <thead>\n",
       "    <tr style=\"text-align: right;\">\n",
       "      <th></th>\n",
       "      <th>mean_fit_time</th>\n",
       "      <th>std_fit_time</th>\n",
       "      <th>mean_score_time</th>\n",
       "      <th>std_score_time</th>\n",
       "      <th>param_min_samples_split</th>\n",
       "      <th>param_min_samples_leaf</th>\n",
       "      <th>param_max_depth</th>\n",
       "      <th>params</th>\n",
       "      <th>split0_test_score</th>\n",
       "      <th>split1_test_score</th>\n",
       "      <th>split2_test_score</th>\n",
       "      <th>mean_test_score</th>\n",
       "      <th>std_test_score</th>\n",
       "      <th>rank_test_score</th>\n",
       "    </tr>\n",
       "  </thead>\n",
       "  <tbody>\n",
       "    <tr>\n",
       "      <th>0</th>\n",
       "      <td>0.009364</td>\n",
       "      <td>0.001282</td>\n",
       "      <td>0.001175</td>\n",
       "      <td>0.000394</td>\n",
       "      <td>90</td>\n",
       "      <td>40</td>\n",
       "      <td>5</td>\n",
       "      <td>{'min_samples_split': 90, 'min_samples_leaf': ...</td>\n",
       "      <td>0.684729</td>\n",
       "      <td>0.687192</td>\n",
       "      <td>0.729064</td>\n",
       "      <td>0.700328</td>\n",
       "      <td>0.020344</td>\n",
       "      <td>1</td>\n",
       "    </tr>\n",
       "    <tr>\n",
       "      <th>1</th>\n",
       "      <td>0.005564</td>\n",
       "      <td>0.000596</td>\n",
       "      <td>0.001007</td>\n",
       "      <td>0.000539</td>\n",
       "      <td>100</td>\n",
       "      <td>40</td>\n",
       "      <td>5</td>\n",
       "      <td>{'min_samples_split': 100, 'min_samples_leaf':...</td>\n",
       "      <td>0.684729</td>\n",
       "      <td>0.687192</td>\n",
       "      <td>0.729064</td>\n",
       "      <td>0.700328</td>\n",
       "      <td>0.020344</td>\n",
       "      <td>1</td>\n",
       "    </tr>\n",
       "    <tr>\n",
       "      <th>26</th>\n",
       "      <td>0.004440</td>\n",
       "      <td>0.000265</td>\n",
       "      <td>0.000587</td>\n",
       "      <td>0.000172</td>\n",
       "      <td>100</td>\n",
       "      <td>40</td>\n",
       "      <td>6</td>\n",
       "      <td>{'min_samples_split': 100, 'min_samples_leaf':...</td>\n",
       "      <td>0.684729</td>\n",
       "      <td>0.687192</td>\n",
       "      <td>0.729064</td>\n",
       "      <td>0.700328</td>\n",
       "      <td>0.020344</td>\n",
       "      <td>1</td>\n",
       "    </tr>\n",
       "    <tr>\n",
       "      <th>25</th>\n",
       "      <td>0.004380</td>\n",
       "      <td>0.000340</td>\n",
       "      <td>0.000421</td>\n",
       "      <td>0.000042</td>\n",
       "      <td>90</td>\n",
       "      <td>40</td>\n",
       "      <td>6</td>\n",
       "      <td>{'min_samples_split': 90, 'min_samples_leaf': ...</td>\n",
       "      <td>0.684729</td>\n",
       "      <td>0.687192</td>\n",
       "      <td>0.729064</td>\n",
       "      <td>0.700328</td>\n",
       "      <td>0.020344</td>\n",
       "      <td>1</td>\n",
       "    </tr>\n",
       "    <tr>\n",
       "      <th>50</th>\n",
       "      <td>0.006731</td>\n",
       "      <td>0.000877</td>\n",
       "      <td>0.000953</td>\n",
       "      <td>0.000132</td>\n",
       "      <td>90</td>\n",
       "      <td>40</td>\n",
       "      <td>7</td>\n",
       "      <td>{'min_samples_split': 90, 'min_samples_leaf': ...</td>\n",
       "      <td>0.684729</td>\n",
       "      <td>0.687192</td>\n",
       "      <td>0.729064</td>\n",
       "      <td>0.700328</td>\n",
       "      <td>0.020344</td>\n",
       "      <td>1</td>\n",
       "    </tr>\n",
       "    <tr>\n",
       "      <th>51</th>\n",
       "      <td>0.009072</td>\n",
       "      <td>0.001730</td>\n",
       "      <td>0.000849</td>\n",
       "      <td>0.000050</td>\n",
       "      <td>100</td>\n",
       "      <td>40</td>\n",
       "      <td>7</td>\n",
       "      <td>{'min_samples_split': 100, 'min_samples_leaf':...</td>\n",
       "      <td>0.684729</td>\n",
       "      <td>0.687192</td>\n",
       "      <td>0.729064</td>\n",
       "      <td>0.700328</td>\n",
       "      <td>0.020344</td>\n",
       "      <td>1</td>\n",
       "    </tr>\n",
       "    <tr>\n",
       "      <th>76</th>\n",
       "      <td>0.004432</td>\n",
       "      <td>0.000187</td>\n",
       "      <td>0.000608</td>\n",
       "      <td>0.000191</td>\n",
       "      <td>100</td>\n",
       "      <td>40</td>\n",
       "      <td>8</td>\n",
       "      <td>{'min_samples_split': 100, 'min_samples_leaf':...</td>\n",
       "      <td>0.684729</td>\n",
       "      <td>0.687192</td>\n",
       "      <td>0.729064</td>\n",
       "      <td>0.700328</td>\n",
       "      <td>0.020344</td>\n",
       "      <td>1</td>\n",
       "    </tr>\n",
       "    <tr>\n",
       "      <th>75</th>\n",
       "      <td>0.004693</td>\n",
       "      <td>0.000126</td>\n",
       "      <td>0.000579</td>\n",
       "      <td>0.000149</td>\n",
       "      <td>90</td>\n",
       "      <td>40</td>\n",
       "      <td>8</td>\n",
       "      <td>{'min_samples_split': 90, 'min_samples_leaf': ...</td>\n",
       "      <td>0.684729</td>\n",
       "      <td>0.687192</td>\n",
       "      <td>0.729064</td>\n",
       "      <td>0.700328</td>\n",
       "      <td>0.020344</td>\n",
       "      <td>1</td>\n",
       "    </tr>\n",
       "    <tr>\n",
       "      <th>2</th>\n",
       "      <td>0.005557</td>\n",
       "      <td>0.000503</td>\n",
       "      <td>0.000610</td>\n",
       "      <td>0.000128</td>\n",
       "      <td>110</td>\n",
       "      <td>40</td>\n",
       "      <td>5</td>\n",
       "      <td>{'min_samples_split': 110, 'min_samples_leaf':...</td>\n",
       "      <td>0.684729</td>\n",
       "      <td>0.672414</td>\n",
       "      <td>0.729064</td>\n",
       "      <td>0.695402</td>\n",
       "      <td>0.024328</td>\n",
       "      <td>9</td>\n",
       "    </tr>\n",
       "    <tr>\n",
       "      <th>52</th>\n",
       "      <td>0.007531</td>\n",
       "      <td>0.001541</td>\n",
       "      <td>0.002153</td>\n",
       "      <td>0.001661</td>\n",
       "      <td>110</td>\n",
       "      <td>40</td>\n",
       "      <td>7</td>\n",
       "      <td>{'min_samples_split': 110, 'min_samples_leaf':...</td>\n",
       "      <td>0.684729</td>\n",
       "      <td>0.672414</td>\n",
       "      <td>0.729064</td>\n",
       "      <td>0.695402</td>\n",
       "      <td>0.024328</td>\n",
       "      <td>9</td>\n",
       "    </tr>\n",
       "  </tbody>\n",
       "</table>\n",
       "</div>"
      ],
      "text/plain": [
       "    mean_fit_time  std_fit_time  mean_score_time  std_score_time  \\\n",
       "0        0.009364      0.001282         0.001175        0.000394   \n",
       "1        0.005564      0.000596         0.001007        0.000539   \n",
       "26       0.004440      0.000265         0.000587        0.000172   \n",
       "25       0.004380      0.000340         0.000421        0.000042   \n",
       "50       0.006731      0.000877         0.000953        0.000132   \n",
       "51       0.009072      0.001730         0.000849        0.000050   \n",
       "76       0.004432      0.000187         0.000608        0.000191   \n",
       "75       0.004693      0.000126         0.000579        0.000149   \n",
       "2        0.005557      0.000503         0.000610        0.000128   \n",
       "52       0.007531      0.001541         0.002153        0.001661   \n",
       "\n",
       "   param_min_samples_split param_min_samples_leaf param_max_depth  \\\n",
       "0                       90                     40               5   \n",
       "1                      100                     40               5   \n",
       "26                     100                     40               6   \n",
       "25                      90                     40               6   \n",
       "50                      90                     40               7   \n",
       "51                     100                     40               7   \n",
       "76                     100                     40               8   \n",
       "75                      90                     40               8   \n",
       "2                      110                     40               5   \n",
       "52                     110                     40               7   \n",
       "\n",
       "                                               params  split0_test_score  \\\n",
       "0   {'min_samples_split': 90, 'min_samples_leaf': ...           0.684729   \n",
       "1   {'min_samples_split': 100, 'min_samples_leaf':...           0.684729   \n",
       "26  {'min_samples_split': 100, 'min_samples_leaf':...           0.684729   \n",
       "25  {'min_samples_split': 90, 'min_samples_leaf': ...           0.684729   \n",
       "50  {'min_samples_split': 90, 'min_samples_leaf': ...           0.684729   \n",
       "51  {'min_samples_split': 100, 'min_samples_leaf':...           0.684729   \n",
       "76  {'min_samples_split': 100, 'min_samples_leaf':...           0.684729   \n",
       "75  {'min_samples_split': 90, 'min_samples_leaf': ...           0.684729   \n",
       "2   {'min_samples_split': 110, 'min_samples_leaf':...           0.684729   \n",
       "52  {'min_samples_split': 110, 'min_samples_leaf':...           0.684729   \n",
       "\n",
       "    split1_test_score  split2_test_score  mean_test_score  std_test_score  \\\n",
       "0            0.687192           0.729064         0.700328        0.020344   \n",
       "1            0.687192           0.729064         0.700328        0.020344   \n",
       "26           0.687192           0.729064         0.700328        0.020344   \n",
       "25           0.687192           0.729064         0.700328        0.020344   \n",
       "50           0.687192           0.729064         0.700328        0.020344   \n",
       "51           0.687192           0.729064         0.700328        0.020344   \n",
       "76           0.687192           0.729064         0.700328        0.020344   \n",
       "75           0.687192           0.729064         0.700328        0.020344   \n",
       "2            0.672414           0.729064         0.695402        0.024328   \n",
       "52           0.672414           0.729064         0.695402        0.024328   \n",
       "\n",
       "    rank_test_score  \n",
       "0                 1  \n",
       "1                 1  \n",
       "26                1  \n",
       "25                1  \n",
       "50                1  \n",
       "51                1  \n",
       "76                1  \n",
       "75                1  \n",
       "2                 9  \n",
       "52                9  "
      ]
     },
     "execution_count": 58,
     "metadata": {},
     "output_type": "execute_result"
    }
   ],
   "source": [
    "cv_results = pd.DataFrame(dt_random.cv_results_)\n",
    "cv_results.sort_values('rank_test_score').head(10)"
   ]
  },
  {
   "cell_type": "code",
   "execution_count": 59,
   "metadata": {},
   "outputs": [
    {
     "name": "stdout",
     "output_type": "stream",
     "text": [
      "[[ 82  60]\n",
      " [ 51 213]]\n"
     ]
    }
   ],
   "source": [
    "cm = confusion_matrix(y_test, predictions_test)\n",
    "print(cm)"
   ]
  },
  {
   "cell_type": "code",
   "execution_count": 60,
   "metadata": {},
   "outputs": [
    {
     "data": {
      "text/plain": [
       "DecisionTreeClassifier(max_depth=5, min_samples_leaf=40, min_samples_split=90,\n",
       "                       random_state=0)"
      ]
     },
     "execution_count": 60,
     "metadata": {},
     "output_type": "execute_result"
    }
   ],
   "source": [
    "pipeline.steps[1][1]"
   ]
  },
  {
   "cell_type": "code",
   "execution_count": 61,
   "metadata": {},
   "outputs": [
    {
     "data": {
      "image/png": "[encoded data removed]",
      "text/plain": [
       "<Figure size 1080x576 with 1 Axes>"
      ]
     },
     "metadata": {
      "needs_background": "light"
     },
     "output_type": "display_data"
    }
   ],
   "source": [
    "columns_importance = pd.Series(pipeline.steps[1][1].feature_importances_, index=features.columns)\n",
    "fig = plt.figure(figsize = (15, 8))\n",
    "columns_importance.nlargest(10).plot(kind = 'barh');"
   ]
  },
  {
   "cell_type": "code",
   "execution_count": 62,
   "id": "c2a592c6",
   "metadata": {
    "scrolled": false
   },
   "outputs": [
    {
     "data": {
      "image/png": "[encoded data removed]",
      "text/plain": [
       "<Figure size 1440x1440 with 1 Axes>"
      ]
     },
     "metadata": {
      "needs_background": "light"
     },
     "output_type": "display_data"
    }
   ],
   "source": [
    "#snippet code for a decision tree model\n",
    "plt.figure(figsize = (20,20))\n",
    "plot_tree(pipeline.steps[1][1],\n",
    "              feature_names = pipeline.feature_names_in_,\n",
    "              class_names = ['No', 'Sí'],\n",
    "              filled = True,\n",
    "              impurity = False,\n",
    "              fontsize = 8)\n",
    "plt.show()"
   ]
  }
 ],
 "metadata": {
  "kernelspec": {
   "display_name": "Python 3.9.7 (conda)",
   "language": "python",
   "name": "python3"
  },
  "language_info": {
   "codemirror_mode": {
    "name": "ipython",
    "version": 3
   },
   "file_extension": ".py",
   "mimetype": "text/x-python",
   "name": "python",
   "nbconvert_exporter": "python",
   "pygments_lexer": "ipython3",
   "version": "3.9.12"
  },
  "orig_nbformat": 4,
  "vscode": {
   "interpreter": {
    "hash": "b1b2438ab93e4061645f694390c05cfcc74dda401c73d3a68669e596328fb653"
   }
  }
 },
 "nbformat": 4,
 "nbformat_minor": 2
}
